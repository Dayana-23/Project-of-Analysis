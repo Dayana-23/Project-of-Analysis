{
 "cells": [
  {
   "cell_type": "markdown",
   "metadata": {},
   "source": [
    "# Analysis of Worldwide Suicide Rates\n",
    "                                                --done by Dayana Kassenova "
   ]
  },
  {
   "cell_type": "markdown",
   "metadata": {},
   "source": [
    "<img src=\"figs/suicide-image.JPG\" width=800 /> "
   ]
  },
  {
   "cell_type": "markdown",
   "metadata": {},
   "source": [
    "### Content\n",
    "+ Introduction: Suicide Rates\n",
    "+ Data description\n",
    "+ Research questions\n",
    "+ Data preparation : cleaning and shaping\n",
    "+ Data analysis: visualisation"
   ]
  },
  {
   "cell_type": "markdown",
   "metadata": {},
   "source": [
    "## 1. Introduction: Suicide Rates"
   ]
  },
  {
   "cell_type": "markdown",
   "metadata": {},
   "source": [
    "&emsp;  Suicide takes place throughout the life and it has been one of the leading causes of death in many countries. Unfortunately, each suicide is a tragic loss of human's life that has own consequences on people left apart, like family and friends.\n",
    "\n",
    "&emsp; To be more precise, suicide is when someone is suffered from mental depression or in a state of stress, usually they feel unable to cope with their problems, and look to the future without hope. For example, humankinds experience both victories and trials, such as hiring to a new position, starting a family, purchasing a new house are altogether energizing victories;   while losing of friends or family members or an aggressive behavior at home are worst trials. Due to these troubles in life, people regularly think about self-destruction as suicide. \n",
    "\n",
    "\n",
    " &emsp;  The goal of the Global Suicide Rates analysis is to demonstrate facts and statistics of 27 820 observations, which grouped by certain age ranges, gender(male/female), number of suicides, population of country, GDP (gross domestic product) per year and person, HDI (human development index) different generations during the period of 1985 & 2015 across the world. In addition, we will find which factors had more influence on the number of suicides in 101 countries.\n",
    "\n",
    " &emsp;  Furthermore, according to World Health Organization, each year about 1 million people die, and a much larger number of people commit suicide around the globe. On the other hand, since 20th century there is a decline of suicide rate. For instance, in 1990 Armenia had 7.51 suicides per 100k, after two decades it dramatically decreased to 0.72 suicides per 100k. \n"
   ]
  },
  {
   "cell_type": "markdown",
   "metadata": {},
   "source": [
    "### Sources\n",
    "1. Dataset is from kaglle- https://www.kaggle.com/russellyates88/suicide-rates-overview-1985-to-2016\n",
    "2. Images from https://ru.depositphotos.com/127753404/stock-illustration-woman-with-tied-eyes-put.html\n",
    "3. Information is from https://www.who.int/news-room/fact-sheets/detail/suicide"
   ]
  },
  {
   "cell_type": "markdown",
   "metadata": {},
   "source": [
    "  "
   ]
  },
  {
   "cell_type": "markdown",
   "metadata": {},
   "source": [
    "## 2. Data description"
   ]
  },
  {
   "cell_type": "markdown",
   "metadata": {},
   "source": [
    " &emsp;  By relying on description of Global Suicide Rates above, it is obvious that individuals with different ages kill themselves because of pressure, barriers, or a lack of mental healthcare across all countries. In addition, in this analysis I am going to compare the count of suicides depending on different age groups, genders, generations, countries, and ratio of suicides per 100k population over period of 1985 and 2016 years.  \n",
    " \n",
    "I am really keen on this topic, because everyone should be aware of this kind of issue, which is dominant in suicidal ratings in our life, and be ready to help their surroundings on time. \n",
    "\n",
    "My analysis will be based on dataset during the 31 years, because I found this great dataset on Kaggle website.\n",
    "Below is data variables that I used for my analysis:\n",
    "\n",
    "+  Country –  geographical location on a map.\n",
    "+  Year – the time when suicide happened.\n",
    "+  Sex – gender as Male/Female.\n",
    "+  Age – age of individuals who committed suicide.\n",
    "+  Suicides_no – number of suicides.\n",
    "+  Population – people living in a particular country.\n",
    "+  Ratio(suicides_no/pop) – # of suicides per country's population.\n",
    "+  HDI for year – human development index in each year.\n",
    "+  GDP_per year – gross domestic value in each year.\n",
    "+  GDP_per_capita – gross domestic value for each person. \n",
    "+  Generation – name of different age groups.\n"
   ]
  },
  {
   "cell_type": "markdown",
   "metadata": {},
   "source": [
    " "
   ]
  },
  {
   "cell_type": "markdown",
   "metadata": {},
   "source": [
    "## 3. Research questions"
   ]
  },
  {
   "cell_type": "markdown",
   "metadata": {},
   "source": [
    "While making an analysis, I will find out answers to these crucial questions of ratings:\n",
    "\n",
    "1. Analyze - What is the proportion of women and men, who had suicidal behaviour?\n",
    "2. Analyze - Who's more likely to commit suicide due to gender & certain age ranges?\n",
    "3. Analyze - Which continent had the most depressed people due to suicides number?\n",
    "4. Analyze - Has the number of suicides increased or decreased over time (based on'suicides/pop')?\n",
    "5. Analyze - Has the GDP(gross domestic product) affect on suicides amount?\n",
    "6. Analyze - Which generations were extremely sad during 31 years (1985-2016)?\n"
   ]
  },
  {
   "cell_type": "markdown",
   "metadata": {},
   "source": [
    "## 4. Data preparation: cleaning and shaping"
   ]
  },
  {
   "cell_type": "markdown",
   "metadata": {},
   "source": [
    "✤   At the beginning, I am going to import essential libraries to make further statistics with graphs."
   ]
  },
  {
   "cell_type": "markdown",
   "metadata": {},
   "source": [
    "+ **numpy** - is Python's important library, for operations with numbers.\n",
    "+ **pandas** - is for dealing with data storage and Dataframes.\n",
    "+ **seaborn** - is for making histograms,scatter plots,box plots.\n",
    "+ **matlolib** - is for displaying charts and graphs.\n",
    "+ **warnings** - is for showing errors."
   ]
  },
  {
   "cell_type": "code",
   "execution_count": 1,
   "metadata": {},
   "outputs": [],
   "source": [
    "#Importing 'must-have' Libraries like these:\n",
    "\n",
    "import numpy as np  # to access data in any formats.\n",
    "import pandas as pd  # to work with data frame formats.\n",
    "import seaborn as sns  # to load color themes in graphics\n",
    "import matplotlib.pyplot as plt  # to plot data\n",
    "import warnings  # do not show matching warnings\n",
    "warnings.filterwarnings('ignore')\n",
    "%matplotlib inline  \n",
    "#to draw cell-oriented tables"
   ]
  },
  {
   "cell_type": "markdown",
   "metadata": {},
   "source": [
    "✤  At this step, I can do some Filtrations within the dataset of Worldwide Suicide rates.\n",
    "+ to access by reading all columns from table.\n",
    "+ to see first 5 rows and last 5 rows.\n",
    "+ to delete unnecessary columns.\n",
    "+ to check, if there are null values.\n",
    "+ to know all datatypes of columns.\n",
    "+ to describe numerical distribution values.\n",
    "+ to find out all unique years,age groups,generations,countries and their number.\n",
    "+ to check for duplicates\n",
    "+ to show final version of dataset ✤\n",
    " "
   ]
  },
  {
   "cell_type": "markdown",
   "metadata": {},
   "source": [
    "✤ Here, we can begin reading our 'suicide' csv file with in dataset:"
   ]
  },
  {
   "cell_type": "code",
   "execution_count": 2,
   "metadata": {},
   "outputs": [],
   "source": [
    "#observing my dataset from 'suicide' csv file:\n",
    "rating = pd.read_csv('datasets/suicide.csv')"
   ]
  },
  {
   "cell_type": "markdown",
   "metadata": {},
   "source": [
    "✤ Firstly,I want to retrieve column names, to see if there are unnecessary spaces or symbols:"
   ]
  },
  {
   "cell_type": "code",
   "execution_count": 3,
   "metadata": {},
   "outputs": [
    {
     "data": {
      "text/plain": [
       "Index(['country', 'year', 'sex', 'age', 'suicides_no', 'population',\n",
       "       'suicides/100k pop', 'country-year', 'HDI for year',\n",
       "       ' gdp_for_year ($) ', 'gdp_per_capita ($)', 'generation'],\n",
       "      dtype='object')"
      ]
     },
     "execution_count": 3,
     "metadata": {},
     "output_type": "execute_result"
    }
   ],
   "source": [
    "rating.columns"
   ]
  },
  {
   "cell_type": "markdown",
   "metadata": {},
   "source": [
    " ✤ Now,we can make table in correct way,by making column names without spaces or symbols($), with replace() function:"
   ]
  },
  {
   "cell_type": "code",
   "execution_count": 4,
   "metadata": {},
   "outputs": [],
   "source": [
    "rating.columns = rating.columns.str.strip().str.lower().str.replace(' ', '').str.replace('(', '').str.replace(')', '').str.replace('$', '')"
   ]
  },
  {
   "cell_type": "markdown",
   "metadata": {},
   "source": [
    "✤ Just general overview of suicide rates dataset:"
   ]
  },
  {
   "cell_type": "code",
   "execution_count": 5,
   "metadata": {
    "scrolled": true
   },
   "outputs": [
    {
     "data": {
      "text/html": [
       "<div>\n",
       "<style scoped>\n",
       "    .dataframe tbody tr th:only-of-type {\n",
       "        vertical-align: middle;\n",
       "    }\n",
       "\n",
       "    .dataframe tbody tr th {\n",
       "        vertical-align: top;\n",
       "    }\n",
       "\n",
       "    .dataframe thead th {\n",
       "        text-align: right;\n",
       "    }\n",
       "</style>\n",
       "<table border=\"1\" class=\"dataframe\">\n",
       "  <thead>\n",
       "    <tr style=\"text-align: right;\">\n",
       "      <th></th>\n",
       "      <th>country</th>\n",
       "      <th>year</th>\n",
       "      <th>sex</th>\n",
       "      <th>age</th>\n",
       "      <th>suicides_no</th>\n",
       "      <th>population</th>\n",
       "      <th>suicides/100kpop</th>\n",
       "      <th>country-year</th>\n",
       "      <th>hdiforyear</th>\n",
       "      <th>gdp_for_year</th>\n",
       "      <th>gdp_per_capita</th>\n",
       "      <th>generation</th>\n",
       "    </tr>\n",
       "  </thead>\n",
       "  <tbody>\n",
       "    <tr>\n",
       "      <th>0</th>\n",
       "      <td>Albania</td>\n",
       "      <td>1987</td>\n",
       "      <td>male</td>\n",
       "      <td>15-24 years</td>\n",
       "      <td>21</td>\n",
       "      <td>312900</td>\n",
       "      <td>6.71</td>\n",
       "      <td>Albania1987</td>\n",
       "      <td>NaN</td>\n",
       "      <td>2,156,624,900</td>\n",
       "      <td>796</td>\n",
       "      <td>Generation X</td>\n",
       "    </tr>\n",
       "    <tr>\n",
       "      <th>1</th>\n",
       "      <td>Albania</td>\n",
       "      <td>1987</td>\n",
       "      <td>male</td>\n",
       "      <td>35-54 years</td>\n",
       "      <td>16</td>\n",
       "      <td>308000</td>\n",
       "      <td>5.19</td>\n",
       "      <td>Albania1987</td>\n",
       "      <td>NaN</td>\n",
       "      <td>2,156,624,900</td>\n",
       "      <td>796</td>\n",
       "      <td>Silent</td>\n",
       "    </tr>\n",
       "    <tr>\n",
       "      <th>2</th>\n",
       "      <td>Albania</td>\n",
       "      <td>1987</td>\n",
       "      <td>female</td>\n",
       "      <td>15-24 years</td>\n",
       "      <td>14</td>\n",
       "      <td>289700</td>\n",
       "      <td>4.83</td>\n",
       "      <td>Albania1987</td>\n",
       "      <td>NaN</td>\n",
       "      <td>2,156,624,900</td>\n",
       "      <td>796</td>\n",
       "      <td>Generation X</td>\n",
       "    </tr>\n",
       "    <tr>\n",
       "      <th>3</th>\n",
       "      <td>Albania</td>\n",
       "      <td>1987</td>\n",
       "      <td>male</td>\n",
       "      <td>75+ years</td>\n",
       "      <td>1</td>\n",
       "      <td>21800</td>\n",
       "      <td>4.59</td>\n",
       "      <td>Albania1987</td>\n",
       "      <td>NaN</td>\n",
       "      <td>2,156,624,900</td>\n",
       "      <td>796</td>\n",
       "      <td>G.I. Generation</td>\n",
       "    </tr>\n",
       "    <tr>\n",
       "      <th>4</th>\n",
       "      <td>Albania</td>\n",
       "      <td>1987</td>\n",
       "      <td>male</td>\n",
       "      <td>25-34 years</td>\n",
       "      <td>9</td>\n",
       "      <td>274300</td>\n",
       "      <td>3.28</td>\n",
       "      <td>Albania1987</td>\n",
       "      <td>NaN</td>\n",
       "      <td>2,156,624,900</td>\n",
       "      <td>796</td>\n",
       "      <td>Boomers</td>\n",
       "    </tr>\n",
       "  </tbody>\n",
       "</table>\n",
       "</div>"
      ],
      "text/plain": [
       "   country  year     sex          age  suicides_no  population  \\\n",
       "0  Albania  1987    male  15-24 years           21      312900   \n",
       "1  Albania  1987    male  35-54 years           16      308000   \n",
       "2  Albania  1987  female  15-24 years           14      289700   \n",
       "3  Albania  1987    male    75+ years            1       21800   \n",
       "4  Albania  1987    male  25-34 years            9      274300   \n",
       "\n",
       "   suicides/100kpop country-year  hdiforyear   gdp_for_year  gdp_per_capita  \\\n",
       "0              6.71  Albania1987         NaN  2,156,624,900             796   \n",
       "1              5.19  Albania1987         NaN  2,156,624,900             796   \n",
       "2              4.83  Albania1987         NaN  2,156,624,900             796   \n",
       "3              4.59  Albania1987         NaN  2,156,624,900             796   \n",
       "4              3.28  Albania1987         NaN  2,156,624,900             796   \n",
       "\n",
       "        generation  \n",
       "0     Generation X  \n",
       "1           Silent  \n",
       "2     Generation X  \n",
       "3  G.I. Generation  \n",
       "4          Boomers  "
      ]
     },
     "execution_count": 5,
     "metadata": {},
     "output_type": "execute_result"
    }
   ],
   "source": [
    "#to show first 5 rows of dataset in table format\n",
    "rating.head()"
   ]
  },
  {
   "cell_type": "markdown",
   "metadata": {},
   "source": [
    "✤ Also, I can rename some columns to more attractive:"
   ]
  },
  {
   "cell_type": "code",
   "execution_count": 6,
   "metadata": {},
   "outputs": [],
   "source": [
    "#by using rename() function:\n",
    "rating=rating.rename(columns={'sex':'gender'})"
   ]
  },
  {
   "cell_type": "markdown",
   "metadata": {},
   "source": [
    "✤ From last five rows, we can see the final columns names:"
   ]
  },
  {
   "cell_type": "code",
   "execution_count": 7,
   "metadata": {
    "scrolled": true
   },
   "outputs": [
    {
     "data": {
      "text/html": [
       "<div>\n",
       "<style scoped>\n",
       "    .dataframe tbody tr th:only-of-type {\n",
       "        vertical-align: middle;\n",
       "    }\n",
       "\n",
       "    .dataframe tbody tr th {\n",
       "        vertical-align: top;\n",
       "    }\n",
       "\n",
       "    .dataframe thead th {\n",
       "        text-align: right;\n",
       "    }\n",
       "</style>\n",
       "<table border=\"1\" class=\"dataframe\">\n",
       "  <thead>\n",
       "    <tr style=\"text-align: right;\">\n",
       "      <th></th>\n",
       "      <th>country</th>\n",
       "      <th>year</th>\n",
       "      <th>gender</th>\n",
       "      <th>age</th>\n",
       "      <th>suicides_no</th>\n",
       "      <th>population</th>\n",
       "      <th>suicides/100kpop</th>\n",
       "      <th>country-year</th>\n",
       "      <th>hdiforyear</th>\n",
       "      <th>gdp_for_year</th>\n",
       "      <th>gdp_per_capita</th>\n",
       "      <th>generation</th>\n",
       "    </tr>\n",
       "  </thead>\n",
       "  <tbody>\n",
       "    <tr>\n",
       "      <th>27815</th>\n",
       "      <td>Uzbekistan</td>\n",
       "      <td>2014</td>\n",
       "      <td>female</td>\n",
       "      <td>35-54 years</td>\n",
       "      <td>107</td>\n",
       "      <td>3620833</td>\n",
       "      <td>2.96</td>\n",
       "      <td>Uzbekistan2014</td>\n",
       "      <td>0.675</td>\n",
       "      <td>63,067,077,179</td>\n",
       "      <td>2309</td>\n",
       "      <td>Generation X</td>\n",
       "    </tr>\n",
       "    <tr>\n",
       "      <th>27816</th>\n",
       "      <td>Uzbekistan</td>\n",
       "      <td>2014</td>\n",
       "      <td>female</td>\n",
       "      <td>75+ years</td>\n",
       "      <td>9</td>\n",
       "      <td>348465</td>\n",
       "      <td>2.58</td>\n",
       "      <td>Uzbekistan2014</td>\n",
       "      <td>0.675</td>\n",
       "      <td>63,067,077,179</td>\n",
       "      <td>2309</td>\n",
       "      <td>Silent</td>\n",
       "    </tr>\n",
       "    <tr>\n",
       "      <th>27817</th>\n",
       "      <td>Uzbekistan</td>\n",
       "      <td>2014</td>\n",
       "      <td>male</td>\n",
       "      <td>5-14 years</td>\n",
       "      <td>60</td>\n",
       "      <td>2762158</td>\n",
       "      <td>2.17</td>\n",
       "      <td>Uzbekistan2014</td>\n",
       "      <td>0.675</td>\n",
       "      <td>63,067,077,179</td>\n",
       "      <td>2309</td>\n",
       "      <td>Generation Z</td>\n",
       "    </tr>\n",
       "    <tr>\n",
       "      <th>27818</th>\n",
       "      <td>Uzbekistan</td>\n",
       "      <td>2014</td>\n",
       "      <td>female</td>\n",
       "      <td>5-14 years</td>\n",
       "      <td>44</td>\n",
       "      <td>2631600</td>\n",
       "      <td>1.67</td>\n",
       "      <td>Uzbekistan2014</td>\n",
       "      <td>0.675</td>\n",
       "      <td>63,067,077,179</td>\n",
       "      <td>2309</td>\n",
       "      <td>Generation Z</td>\n",
       "    </tr>\n",
       "    <tr>\n",
       "      <th>27819</th>\n",
       "      <td>Uzbekistan</td>\n",
       "      <td>2014</td>\n",
       "      <td>female</td>\n",
       "      <td>55-74 years</td>\n",
       "      <td>21</td>\n",
       "      <td>1438935</td>\n",
       "      <td>1.46</td>\n",
       "      <td>Uzbekistan2014</td>\n",
       "      <td>0.675</td>\n",
       "      <td>63,067,077,179</td>\n",
       "      <td>2309</td>\n",
       "      <td>Boomers</td>\n",
       "    </tr>\n",
       "  </tbody>\n",
       "</table>\n",
       "</div>"
      ],
      "text/plain": [
       "          country  year  gender          age  suicides_no  population  \\\n",
       "27815  Uzbekistan  2014  female  35-54 years          107     3620833   \n",
       "27816  Uzbekistan  2014  female    75+ years            9      348465   \n",
       "27817  Uzbekistan  2014    male   5-14 years           60     2762158   \n",
       "27818  Uzbekistan  2014  female   5-14 years           44     2631600   \n",
       "27819  Uzbekistan  2014  female  55-74 years           21     1438935   \n",
       "\n",
       "       suicides/100kpop    country-year  hdiforyear    gdp_for_year  \\\n",
       "27815              2.96  Uzbekistan2014       0.675  63,067,077,179   \n",
       "27816              2.58  Uzbekistan2014       0.675  63,067,077,179   \n",
       "27817              2.17  Uzbekistan2014       0.675  63,067,077,179   \n",
       "27818              1.67  Uzbekistan2014       0.675  63,067,077,179   \n",
       "27819              1.46  Uzbekistan2014       0.675  63,067,077,179   \n",
       "\n",
       "       gdp_per_capita    generation  \n",
       "27815            2309  Generation X  \n",
       "27816            2309        Silent  \n",
       "27817            2309  Generation Z  \n",
       "27818            2309  Generation Z  \n",
       "27819            2309       Boomers  "
      ]
     },
     "execution_count": 7,
     "metadata": {},
     "output_type": "execute_result"
    }
   ],
   "source": [
    "#to show last 5 rows of dataset in table format:\n",
    "rating.tail()"
   ]
  },
  {
   "cell_type": "markdown",
   "metadata": {},
   "source": [
    " "
   ]
  },
  {
   "cell_type": "markdown",
   "metadata": {},
   "source": [
    "✤  From results of dataset, I can count total number of rows & columns, with shape function :"
   ]
  },
  {
   "cell_type": "code",
   "execution_count": 8,
   "metadata": {},
   "outputs": [
    {
     "name": "stdout",
     "output_type": "stream",
     "text": [
      "(27820, 12)\n"
     ]
    }
   ],
   "source": [
    "print(rating.shape)"
   ]
  },
  {
   "cell_type": "markdown",
   "metadata": {},
   "source": [
    "✤  In this situation, I suppose that we should delete 'country-year' column , by using drop() function,\n",
    "because we already have 'country' and 'year' columns, and it will not make sence: "
   ]
  },
  {
   "cell_type": "code",
   "execution_count": 9,
   "metadata": {},
   "outputs": [],
   "source": [
    "rating.drop(['country-year'], axis=1,inplace=True)"
   ]
  },
  {
   "cell_type": "markdown",
   "metadata": {},
   "source": [
    " "
   ]
  },
  {
   "cell_type": "markdown",
   "metadata": {},
   "source": [
    "✤ In this dataset,as you noticed from last 5 rows in table,there is no rows with data in 2016 year, because it is incomplete for some countries. So,I want to delete data related to this year (2016):"
   ]
  },
  {
   "cell_type": "code",
   "execution_count": 10,
   "metadata": {},
   "outputs": [],
   "source": [
    "# rating.loc[rating['year'] == 2016].count()\n",
    "# 160-rows\n",
    "rating = rating[rating.year != 2016]\n",
    "# removing specific values in a dataframe"
   ]
  },
  {
   "cell_type": "markdown",
   "metadata": {},
   "source": [
    "✤ Here, we can check that Rows with '2016' year are deleted, and Sum of rows is changed->decreased by 160 rows:"
   ]
  },
  {
   "cell_type": "code",
   "execution_count": 11,
   "metadata": {},
   "outputs": [
    {
     "name": "stdout",
     "output_type": "stream",
     "text": [
      "(27660, 11)\n"
     ]
    }
   ],
   "source": [
    "print(rating.shape)"
   ]
  },
  {
   "cell_type": "markdown",
   "metadata": {},
   "source": [
    "✤ Since some countries have higher(10 million) or lower(1m million) population, we can not compare them by column 'suicides_no/per 100k population'.  &emsp;  That's why I obtained(created) new column - Ratio of suicides number by population of country:"
   ]
  },
  {
   "cell_type": "code",
   "execution_count": 12,
   "metadata": {},
   "outputs": [
    {
     "data": {
      "text/html": [
       "<div>\n",
       "<style scoped>\n",
       "    .dataframe tbody tr th:only-of-type {\n",
       "        vertical-align: middle;\n",
       "    }\n",
       "\n",
       "    .dataframe tbody tr th {\n",
       "        vertical-align: top;\n",
       "    }\n",
       "\n",
       "    .dataframe thead th {\n",
       "        text-align: right;\n",
       "    }\n",
       "</style>\n",
       "<table border=\"1\" class=\"dataframe\">\n",
       "  <thead>\n",
       "    <tr style=\"text-align: right;\">\n",
       "      <th></th>\n",
       "      <th>country</th>\n",
       "      <th>year</th>\n",
       "      <th>gender</th>\n",
       "      <th>age</th>\n",
       "      <th>suicides_no</th>\n",
       "      <th>population</th>\n",
       "      <th>suicides/100kpop</th>\n",
       "      <th>hdiforyear</th>\n",
       "      <th>gdp_for_year</th>\n",
       "      <th>gdp_per_capita</th>\n",
       "      <th>generation</th>\n",
       "      <th>suicide/pop</th>\n",
       "    </tr>\n",
       "  </thead>\n",
       "  <tbody>\n",
       "    <tr>\n",
       "      <th>0</th>\n",
       "      <td>Albania</td>\n",
       "      <td>1987</td>\n",
       "      <td>male</td>\n",
       "      <td>15-24 years</td>\n",
       "      <td>21</td>\n",
       "      <td>312900</td>\n",
       "      <td>6.71</td>\n",
       "      <td>NaN</td>\n",
       "      <td>2,156,624,900</td>\n",
       "      <td>796</td>\n",
       "      <td>Generation X</td>\n",
       "      <td>6.7</td>\n",
       "    </tr>\n",
       "    <tr>\n",
       "      <th>1</th>\n",
       "      <td>Albania</td>\n",
       "      <td>1987</td>\n",
       "      <td>male</td>\n",
       "      <td>35-54 years</td>\n",
       "      <td>16</td>\n",
       "      <td>308000</td>\n",
       "      <td>5.19</td>\n",
       "      <td>NaN</td>\n",
       "      <td>2,156,624,900</td>\n",
       "      <td>796</td>\n",
       "      <td>Silent</td>\n",
       "      <td>5.2</td>\n",
       "    </tr>\n",
       "    <tr>\n",
       "      <th>2</th>\n",
       "      <td>Albania</td>\n",
       "      <td>1987</td>\n",
       "      <td>female</td>\n",
       "      <td>15-24 years</td>\n",
       "      <td>14</td>\n",
       "      <td>289700</td>\n",
       "      <td>4.83</td>\n",
       "      <td>NaN</td>\n",
       "      <td>2,156,624,900</td>\n",
       "      <td>796</td>\n",
       "      <td>Generation X</td>\n",
       "      <td>4.8</td>\n",
       "    </tr>\n",
       "    <tr>\n",
       "      <th>3</th>\n",
       "      <td>Albania</td>\n",
       "      <td>1987</td>\n",
       "      <td>male</td>\n",
       "      <td>75+ years</td>\n",
       "      <td>1</td>\n",
       "      <td>21800</td>\n",
       "      <td>4.59</td>\n",
       "      <td>NaN</td>\n",
       "      <td>2,156,624,900</td>\n",
       "      <td>796</td>\n",
       "      <td>G.I. Generation</td>\n",
       "      <td>4.6</td>\n",
       "    </tr>\n",
       "    <tr>\n",
       "      <th>4</th>\n",
       "      <td>Albania</td>\n",
       "      <td>1987</td>\n",
       "      <td>male</td>\n",
       "      <td>25-34 years</td>\n",
       "      <td>9</td>\n",
       "      <td>274300</td>\n",
       "      <td>3.28</td>\n",
       "      <td>NaN</td>\n",
       "      <td>2,156,624,900</td>\n",
       "      <td>796</td>\n",
       "      <td>Boomers</td>\n",
       "      <td>3.3</td>\n",
       "    </tr>\n",
       "  </tbody>\n",
       "</table>\n",
       "</div>"
      ],
      "text/plain": [
       "   country  year  gender          age  suicides_no  population  \\\n",
       "0  Albania  1987    male  15-24 years           21      312900   \n",
       "1  Albania  1987    male  35-54 years           16      308000   \n",
       "2  Albania  1987  female  15-24 years           14      289700   \n",
       "3  Albania  1987    male    75+ years            1       21800   \n",
       "4  Albania  1987    male  25-34 years            9      274300   \n",
       "\n",
       "   suicides/100kpop  hdiforyear   gdp_for_year  gdp_per_capita  \\\n",
       "0              6.71         NaN  2,156,624,900             796   \n",
       "1              5.19         NaN  2,156,624,900             796   \n",
       "2              4.83         NaN  2,156,624,900             796   \n",
       "3              4.59         NaN  2,156,624,900             796   \n",
       "4              3.28         NaN  2,156,624,900             796   \n",
       "\n",
       "        generation  suicide/pop  \n",
       "0     Generation X          6.7  \n",
       "1           Silent          5.2  \n",
       "2     Generation X          4.8  \n",
       "3  G.I. Generation          4.6  \n",
       "4          Boomers          3.3  "
      ]
     },
     "execution_count": 12,
     "metadata": {},
     "output_type": "execute_result"
    }
   ],
   "source": [
    "ratio=rating['suicides_no'] / rating['population']\n",
    "rating['suicide/pop']=round(ratio * 100000, 1)\n",
    "\n",
    "# I multiplied ratio by 100 000,to gain whole number.\n",
    "rating.head() "
   ]
  },
  {
   "cell_type": "markdown",
   "metadata": {},
   "source": [
    " ✤ Now, we can understand that we do not need column 'suicides/100k pop', and we can delete this column by using drop() function:"
   ]
  },
  {
   "cell_type": "code",
   "execution_count": 13,
   "metadata": {},
   "outputs": [],
   "source": [
    "rating.drop(['suicides/100kpop'], axis=1,inplace=True)"
   ]
  },
  {
   "cell_type": "markdown",
   "metadata": {},
   "source": [
    " "
   ]
  },
  {
   "cell_type": "markdown",
   "metadata": {},
   "source": [
    " ✤ As you can see from initial 5 rows of table, there are null values(NaN) in HDI column, and we should guess all other missing values from table:"
   ]
  },
  {
   "cell_type": "code",
   "execution_count": 14,
   "metadata": {},
   "outputs": [
    {
     "data": {
      "text/plain": [
       "country               0\n",
       "year                  0\n",
       "gender                0\n",
       "age                   0\n",
       "suicides_no           0\n",
       "population            0\n",
       "hdiforyear        19296\n",
       "gdp_for_year          0\n",
       "gdp_per_capita        0\n",
       "generation            0\n",
       "suicide/pop           0\n",
       "dtype: int64"
      ]
     },
     "execution_count": 14,
     "metadata": {},
     "output_type": "execute_result"
    }
   ],
   "source": [
    "# by using isnull() function and we count empty values in columns:\n",
    "rating.isnull().sum()"
   ]
  },
  {
   "cell_type": "markdown",
   "metadata": {},
   "source": [
    "✤ Only 'HDI_for_year' column has missing rows- 19296 out of 27660 rows, it is about 70% of observations missed, it means without any data.\n",
    "Let's take a look on the values of this column:\n",
    "\n",
    "+ There was an idea to fill it, but each year,countries could have different \"Human Development Index\", so there is no way to fill it, because I can not predict the values. [rating = rating.fillna(method='ffill').fillna(method='bfill')]\n",
    "+ That's why I decided to apply drop() function in order to delete 'HDI_for_year' column:\n"
   ]
  },
  {
   "cell_type": "code",
   "execution_count": 15,
   "metadata": {},
   "outputs": [],
   "source": [
    "# using of drop() function\n",
    "rating.drop(columns=[\"hdiforyear\"], inplace=True)"
   ]
  },
  {
   "cell_type": "markdown",
   "metadata": {},
   "source": [
    "✤ Here, we know that none of the columns has Missing Values:"
   ]
  },
  {
   "cell_type": "code",
   "execution_count": 16,
   "metadata": {},
   "outputs": [
    {
     "data": {
      "text/plain": [
       "country           False\n",
       "year              False\n",
       "gender            False\n",
       "age               False\n",
       "suicides_no       False\n",
       "population        False\n",
       "gdp_for_year      False\n",
       "gdp_per_capita    False\n",
       "generation        False\n",
       "suicide/pop       False\n",
       "dtype: bool"
      ]
     },
     "execution_count": 16,
     "metadata": {},
     "output_type": "execute_result"
    }
   ],
   "source": [
    "# again by using isnull() function and we count empty values in columns:\n",
    "rating.isnull().any()\n",
    "# So, bollean \"false\" means that there is no null data:"
   ]
  },
  {
   "cell_type": "markdown",
   "metadata": {},
   "source": [
    "✤  Additionally, we should know datatypes of our variables, it will help us in analysis:\n",
    " + object-> categorical data\n",
    " + int64 -> numerical data \n",
    " + float64-> numerical data "
   ]
  },
  {
   "cell_type": "code",
   "execution_count": 17,
   "metadata": {},
   "outputs": [
    {
     "data": {
      "text/plain": [
       "country            object\n",
       "year                int64\n",
       "gender             object\n",
       "age                object\n",
       "suicides_no         int64\n",
       "population          int64\n",
       "gdp_for_year       object\n",
       "gdp_per_capita      int64\n",
       "generation         object\n",
       "suicide/pop       float64\n",
       "dtype: object"
      ]
     },
     "execution_count": 17,
     "metadata": {},
     "output_type": "execute_result"
    }
   ],
   "source": [
    "rating.dtypes"
   ]
  },
  {
   "cell_type": "markdown",
   "metadata": {},
   "source": [
    " "
   ]
  },
  {
   "cell_type": "markdown",
   "metadata": {},
   "source": [
    "✤  Also, there is a numerical description of our dataset, it illustrates a fairly wide range of data such as total amount, average mean value, standard deviation, interqurtile range and min/max values:"
   ]
  },
  {
   "cell_type": "code",
   "execution_count": 18,
   "metadata": {},
   "outputs": [
    {
     "data": {
      "text/html": [
       "<div>\n",
       "<style scoped>\n",
       "    .dataframe tbody tr th:only-of-type {\n",
       "        vertical-align: middle;\n",
       "    }\n",
       "\n",
       "    .dataframe tbody tr th {\n",
       "        vertical-align: top;\n",
       "    }\n",
       "\n",
       "    .dataframe thead th {\n",
       "        text-align: right;\n",
       "    }\n",
       "</style>\n",
       "<table border=\"1\" class=\"dataframe\">\n",
       "  <thead>\n",
       "    <tr style=\"text-align: right;\">\n",
       "      <th></th>\n",
       "      <th>year</th>\n",
       "      <th>suicides_no</th>\n",
       "      <th>population</th>\n",
       "      <th>suicide/pop</th>\n",
       "      <th>gdp_per_capita</th>\n",
       "    </tr>\n",
       "  </thead>\n",
       "  <tbody>\n",
       "    <tr>\n",
       "      <th>count</th>\n",
       "      <td>27660.000000</td>\n",
       "      <td>27660.000000</td>\n",
       "      <td>2.766000e+04</td>\n",
       "      <td>27660.000000</td>\n",
       "      <td>27660.000000</td>\n",
       "    </tr>\n",
       "    <tr>\n",
       "      <th>mean</th>\n",
       "      <td>2001.173102</td>\n",
       "      <td>243.413485</td>\n",
       "      <td>1.850689e+06</td>\n",
       "      <td>12.812570</td>\n",
       "      <td>16815.568330</td>\n",
       "    </tr>\n",
       "    <tr>\n",
       "      <th>std</th>\n",
       "      <td>8.418754</td>\n",
       "      <td>904.490185</td>\n",
       "      <td>3.920658e+06</td>\n",
       "      <td>18.972264</td>\n",
       "      <td>18861.585497</td>\n",
       "    </tr>\n",
       "    <tr>\n",
       "      <th>min</th>\n",
       "      <td>1985.000000</td>\n",
       "      <td>0.000000</td>\n",
       "      <td>2.780000e+02</td>\n",
       "      <td>0.000000</td>\n",
       "      <td>251.000000</td>\n",
       "    </tr>\n",
       "    <tr>\n",
       "      <th>25%</th>\n",
       "      <td>1994.000000</td>\n",
       "      <td>3.000000</td>\n",
       "      <td>9.753525e+04</td>\n",
       "      <td>0.900000</td>\n",
       "      <td>3436.000000</td>\n",
       "    </tr>\n",
       "    <tr>\n",
       "      <th>50%</th>\n",
       "      <td>2002.000000</td>\n",
       "      <td>25.000000</td>\n",
       "      <td>4.307250e+05</td>\n",
       "      <td>6.000000</td>\n",
       "      <td>9283.000000</td>\n",
       "    </tr>\n",
       "    <tr>\n",
       "      <th>75%</th>\n",
       "      <td>2008.000000</td>\n",
       "      <td>132.000000</td>\n",
       "      <td>1.491041e+06</td>\n",
       "      <td>16.600000</td>\n",
       "      <td>24796.000000</td>\n",
       "    </tr>\n",
       "    <tr>\n",
       "      <th>max</th>\n",
       "      <td>2015.000000</td>\n",
       "      <td>22338.000000</td>\n",
       "      <td>4.380521e+07</td>\n",
       "      <td>225.000000</td>\n",
       "      <td>126352.000000</td>\n",
       "    </tr>\n",
       "  </tbody>\n",
       "</table>\n",
       "</div>"
      ],
      "text/plain": [
       "               year   suicides_no    population   suicide/pop  gdp_per_capita\n",
       "count  27660.000000  27660.000000  2.766000e+04  27660.000000    27660.000000\n",
       "mean    2001.173102    243.413485  1.850689e+06     12.812570    16815.568330\n",
       "std        8.418754    904.490185  3.920658e+06     18.972264    18861.585497\n",
       "min     1985.000000      0.000000  2.780000e+02      0.000000      251.000000\n",
       "25%     1994.000000      3.000000  9.753525e+04      0.900000     3436.000000\n",
       "50%     2002.000000     25.000000  4.307250e+05      6.000000     9283.000000\n",
       "75%     2008.000000    132.000000  1.491041e+06     16.600000    24796.000000\n",
       "max     2015.000000  22338.000000  4.380521e+07    225.000000   126352.000000"
      ]
     },
     "execution_count": 18,
     "metadata": {},
     "output_type": "execute_result"
    }
   ],
   "source": [
    "rating[['year','suicides_no','population','suicide/pop','gdp_per_capita']].describe()"
   ]
  },
  {
   "cell_type": "markdown",
   "metadata": {},
   "source": [
    "  "
   ]
  },
  {
   "cell_type": "markdown",
   "metadata": {},
   "source": [
    "✤ Moreover, we must know that, in which years suicides were committed by people, and their ages, within generations:"
   ]
  },
  {
   "cell_type": "code",
   "execution_count": 19,
   "metadata": {},
   "outputs": [
    {
     "name": "stdout",
     "output_type": "stream",
     "text": [
      "\n",
      " year's - Unique values : \n",
      " [1987 1988 1989 1992 1993 1994 1995 1996 1997 1998 1999 2000 2001 2002\n",
      " 2003 2004 2005 2006 2007 2008 2009 2010 1985 1986 1990 1991 2012 2013\n",
      " 2014 2015 2011]\n",
      "\n",
      " age's - Unique values : \n",
      " ['15-24 years' '35-54 years' '75+ years' '25-34 years' '55-74 years'\n",
      " '5-14 years']\n",
      "\n",
      " generation's - Unique values : \n",
      " ['Generation X' 'Silent' 'G.I. Generation' 'Boomers' 'Millenials'\n",
      " 'Generation Z']\n"
     ]
    }
   ],
   "source": [
    "columns = ['year', 'age', 'generation']\n",
    "for col in columns:\n",
    "    print(\"\\n {}'s - Unique values : \\n {}\".format(col, rating[col].unique()))"
   ]
  },
  {
   "cell_type": "markdown",
   "metadata": {},
   "source": [
    "✤  Here, I am retrieveing all available distinct(unique) countries from data in alphabetic order, where suicides have been occured."
   ]
  },
  {
   "cell_type": "code",
   "execution_count": 20,
   "metadata": {},
   "outputs": [
    {
     "name": "stdout",
     "output_type": "stream",
     "text": [
      "Amount of different types of countries: \n",
      "100\n",
      "['Albania' 'Antigua and Barbuda' 'Argentina' 'Armenia' 'Aruba' 'Australia'\n",
      " 'Austria' 'Azerbaijan' 'Bahamas' 'Bahrain' 'Barbados' 'Belarus' 'Belgium'\n",
      " 'Belize' 'Bosnia and Herzegovina' 'Brazil' 'Bulgaria' 'Cabo Verde'\n",
      " 'Canada' 'Chile' 'Colombia' 'Costa Rica' 'Croatia' 'Cuba' 'Cyprus'\n",
      " 'Czech Republic' 'Denmark' 'Dominica' 'Ecuador' 'El Salvador' 'Estonia'\n",
      " 'Fiji' 'Finland' 'France' 'Georgia' 'Germany' 'Greece' 'Grenada'\n",
      " 'Guatemala' 'Guyana' 'Hungary' 'Iceland' 'Ireland' 'Israel' 'Italy'\n",
      " 'Jamaica' 'Japan' 'Kazakhstan' 'Kiribati' 'Kuwait' 'Kyrgyzstan' 'Latvia'\n",
      " 'Lithuania' 'Luxembourg' 'Macau' 'Maldives' 'Malta' 'Mauritius' 'Mexico'\n",
      " 'Montenegro' 'Netherlands' 'New Zealand' 'Nicaragua' 'Norway' 'Oman'\n",
      " 'Panama' 'Paraguay' 'Philippines' 'Poland' 'Portugal' 'Puerto Rico'\n",
      " 'Qatar' 'Republic of Korea' 'Romania' 'Russian Federation'\n",
      " 'Saint Kitts and Nevis' 'Saint Lucia' 'Saint Vincent and Grenadines'\n",
      " 'San Marino' 'Serbia' 'Seychelles' 'Singapore' 'Slovakia' 'Slovenia'\n",
      " 'South Africa' 'Spain' 'Sri Lanka' 'Suriname' 'Sweden' 'Switzerland'\n",
      " 'Thailand' 'Trinidad and Tobago' 'Turkey' 'Turkmenistan' 'Ukraine'\n",
      " 'United Arab Emirates' 'United Kingdom' 'United States' 'Uruguay'\n",
      " 'Uzbekistan']\n"
     ]
    }
   ],
   "source": [
    "print('Amount of different types of countries: ')\n",
    "print(len(rating['country'].unique())) \n",
    "#count them\n",
    "\n",
    "distinct_countries = rating['country'].unique()\n",
    "print(distinct_countries) \n",
    "#show all of them"
   ]
  },
  {
   "cell_type": "markdown",
   "metadata": {},
   "source": [
    " "
   ]
  },
  {
   "cell_type": "markdown",
   "metadata": {},
   "source": [
    "✤ I also should check for duplicated rows of data, if there is values, which occurs more than one time:\n",
    "    ~eventually,we don't have dublicates:"
   ]
  },
  {
   "cell_type": "code",
   "execution_count": 21,
   "metadata": {},
   "outputs": [
    {
     "data": {
      "text/plain": [
       "0"
      ]
     },
     "execution_count": 21,
     "metadata": {},
     "output_type": "execute_result"
    }
   ],
   "source": [
    "a = rating.duplicated(['country','year','gender','age','suicides_no'])\n",
    "a.sum()"
   ]
  },
  {
   "cell_type": "markdown",
   "metadata": {},
   "source": [
    "✤ Let's see the final version of my dataset(without empty rows): "
   ]
  },
  {
   "cell_type": "code",
   "execution_count": 22,
   "metadata": {},
   "outputs": [
    {
     "data": {
      "text/html": [
       "<div>\n",
       "<style scoped>\n",
       "    .dataframe tbody tr th:only-of-type {\n",
       "        vertical-align: middle;\n",
       "    }\n",
       "\n",
       "    .dataframe tbody tr th {\n",
       "        vertical-align: top;\n",
       "    }\n",
       "\n",
       "    .dataframe thead th {\n",
       "        text-align: right;\n",
       "    }\n",
       "</style>\n",
       "<table border=\"1\" class=\"dataframe\">\n",
       "  <thead>\n",
       "    <tr style=\"text-align: right;\">\n",
       "      <th></th>\n",
       "      <th>country</th>\n",
       "      <th>year</th>\n",
       "      <th>gender</th>\n",
       "      <th>age</th>\n",
       "      <th>suicides_no</th>\n",
       "      <th>population</th>\n",
       "      <th>gdp_for_year</th>\n",
       "      <th>gdp_per_capita</th>\n",
       "      <th>generation</th>\n",
       "      <th>suicide/pop</th>\n",
       "    </tr>\n",
       "  </thead>\n",
       "  <tbody>\n",
       "    <tr>\n",
       "      <th>0</th>\n",
       "      <td>Albania</td>\n",
       "      <td>1987</td>\n",
       "      <td>male</td>\n",
       "      <td>15-24 years</td>\n",
       "      <td>21</td>\n",
       "      <td>312900</td>\n",
       "      <td>2,156,624,900</td>\n",
       "      <td>796</td>\n",
       "      <td>Generation X</td>\n",
       "      <td>6.7</td>\n",
       "    </tr>\n",
       "    <tr>\n",
       "      <th>1</th>\n",
       "      <td>Albania</td>\n",
       "      <td>1987</td>\n",
       "      <td>male</td>\n",
       "      <td>35-54 years</td>\n",
       "      <td>16</td>\n",
       "      <td>308000</td>\n",
       "      <td>2,156,624,900</td>\n",
       "      <td>796</td>\n",
       "      <td>Silent</td>\n",
       "      <td>5.2</td>\n",
       "    </tr>\n",
       "    <tr>\n",
       "      <th>2</th>\n",
       "      <td>Albania</td>\n",
       "      <td>1987</td>\n",
       "      <td>female</td>\n",
       "      <td>15-24 years</td>\n",
       "      <td>14</td>\n",
       "      <td>289700</td>\n",
       "      <td>2,156,624,900</td>\n",
       "      <td>796</td>\n",
       "      <td>Generation X</td>\n",
       "      <td>4.8</td>\n",
       "    </tr>\n",
       "    <tr>\n",
       "      <th>3</th>\n",
       "      <td>Albania</td>\n",
       "      <td>1987</td>\n",
       "      <td>male</td>\n",
       "      <td>75+ years</td>\n",
       "      <td>1</td>\n",
       "      <td>21800</td>\n",
       "      <td>2,156,624,900</td>\n",
       "      <td>796</td>\n",
       "      <td>G.I. Generation</td>\n",
       "      <td>4.6</td>\n",
       "    </tr>\n",
       "    <tr>\n",
       "      <th>4</th>\n",
       "      <td>Albania</td>\n",
       "      <td>1987</td>\n",
       "      <td>male</td>\n",
       "      <td>25-34 years</td>\n",
       "      <td>9</td>\n",
       "      <td>274300</td>\n",
       "      <td>2,156,624,900</td>\n",
       "      <td>796</td>\n",
       "      <td>Boomers</td>\n",
       "      <td>3.3</td>\n",
       "    </tr>\n",
       "  </tbody>\n",
       "</table>\n",
       "</div>"
      ],
      "text/plain": [
       "   country  year  gender          age  suicides_no  population   gdp_for_year  \\\n",
       "0  Albania  1987    male  15-24 years           21      312900  2,156,624,900   \n",
       "1  Albania  1987    male  35-54 years           16      308000  2,156,624,900   \n",
       "2  Albania  1987  female  15-24 years           14      289700  2,156,624,900   \n",
       "3  Albania  1987    male    75+ years            1       21800  2,156,624,900   \n",
       "4  Albania  1987    male  25-34 years            9      274300  2,156,624,900   \n",
       "\n",
       "   gdp_per_capita       generation  suicide/pop  \n",
       "0             796     Generation X          6.7  \n",
       "1             796           Silent          5.2  \n",
       "2             796     Generation X          4.8  \n",
       "3             796  G.I. Generation          4.6  \n",
       "4             796          Boomers          3.3  "
      ]
     },
     "execution_count": 22,
     "metadata": {},
     "output_type": "execute_result"
    }
   ],
   "source": [
    "# to see final version of dataset\n",
    "# as an example, retrieve first 5 rows:\n",
    "rating.head()"
   ]
  },
  {
   "cell_type": "markdown",
   "metadata": {},
   "source": [
    "✤ After checking for duplicates, deleting unnecessary column,and creating 'ratio' column, generally we can check a total amount of rows and columns, correspondingly:"
   ]
  },
  {
   "cell_type": "code",
   "execution_count": 23,
   "metadata": {},
   "outputs": [
    {
     "name": "stdout",
     "output_type": "stream",
     "text": [
      "(27660, 10)\n"
     ]
    }
   ],
   "source": [
    "# by using shape, we find out number of rows & columns:\n",
    "print(rating.shape)"
   ]
  },
  {
   "cell_type": "markdown",
   "metadata": {},
   "source": [
    "###  ✤  Now, my dataset is clean and filtered, because of deleting unnecessary column, and after making some manipulations with data.\n",
    "\n",
    "#### ✤ I know  the \"Worldwide Suicides Rates\" dataset more clearly by unique values, by grouping gender & ages, and description of  all datatypes, categorical & numerical data, and I am ready to make graphs, where I can find out answers in more detailed."
   ]
  },
  {
   "cell_type": "markdown",
   "metadata": {},
   "source": [
    "## 5. Data Analysis"
   ]
  },
  {
   "cell_type": "markdown",
   "metadata": {},
   "source": [
    "### 5.1. ✤ What is the proportion of women and men, who had more suicidal behaviour ?"
   ]
  },
  {
   "cell_type": "markdown",
   "metadata": {},
   "source": [
    "✤ Firstly, let's prepare some data for the answer, by using groupby() functions:"
   ]
  },
  {
   "cell_type": "code",
   "execution_count": 24,
   "metadata": {},
   "outputs": [],
   "source": [
    "# usage of function->grouping by genders:\n",
    "# mf is like 'male/female'\n",
    "mf = rating.groupby('gender')"
   ]
  },
  {
   "cell_type": "markdown",
   "metadata": {},
   "source": [
    "✤ Now, show the result in a form of table, to see exact number of 'Suicides' done by 'Male & Female':"
   ]
  },
  {
   "cell_type": "code",
   "execution_count": 25,
   "metadata": {},
   "outputs": [
    {
     "data": {
      "text/html": [
       "<div>\n",
       "<style scoped>\n",
       "    .dataframe tbody tr th:only-of-type {\n",
       "        vertical-align: middle;\n",
       "    }\n",
       "\n",
       "    .dataframe tbody tr th {\n",
       "        vertical-align: top;\n",
       "    }\n",
       "\n",
       "    .dataframe thead th {\n",
       "        text-align: right;\n",
       "    }\n",
       "</style>\n",
       "<table border=\"1\" class=\"dataframe\">\n",
       "  <thead>\n",
       "    <tr style=\"text-align: right;\">\n",
       "      <th></th>\n",
       "      <th>Suicides Number</th>\n",
       "    </tr>\n",
       "  </thead>\n",
       "  <tbody>\n",
       "    <tr>\n",
       "      <th>female</th>\n",
       "      <td>1556006</td>\n",
       "    </tr>\n",
       "    <tr>\n",
       "      <th>male</th>\n",
       "      <td>5176811</td>\n",
       "    </tr>\n",
       "  </tbody>\n",
       "</table>\n",
       "</div>"
      ],
      "text/plain": [
       "        Suicides Number\n",
       "female          1556006\n",
       "male            5176811"
      ]
     },
     "execution_count": 25,
     "metadata": {},
     "output_type": "execute_result"
    }
   ],
   "source": [
    "# each_mf= mf['suicides_no'].sum()\n",
    "# total sum of suicides by gender:\n",
    "\n",
    "# using pandas library like pd:\n",
    "each_mf = pd.Series()\n",
    "# \"for ..variables.. in\" loop:\n",
    "for gender, table in mf:  #loop body:\n",
    "    each_mf[gender] = table['suicides_no'].sum()\n",
    "# making small table with amount of suicides per gender: \n",
    "each_mf = each_mf.to_frame()\n",
    "# by default,column name would be 0, so renaming it:\n",
    "each_mf.rename(columns={0: 'Suicides Number'}, inplace=True)\n",
    "each_mf"
   ]
  },
  {
   "cell_type": "markdown",
   "metadata": {},
   "source": [
    "✤ Here, I decided to see it in 'pie chart', visually, we can understand that there are Males had more suicidal behaviour rather than Females:"
   ]
  },
  {
   "cell_type": "code",
   "execution_count": 57,
   "metadata": {},
   "outputs": [
    {
     "data": {
      "image/png": "[encoded data removed]",
      "text/plain": [
       "<Figure size 388.8x388.8 with 1 Axes>"
      ]
     },
     "metadata": {},
     "output_type": "display_data"
    }
   ],
   "source": [
    "# showing graph by plotting it in form of \"pie-chart\"-> more interesting, colorful, specific size,\n",
    "# having legend,shadow, percentages, division by using 'explode() function':\n",
    "each_mf.plot(kind='pie', legend= True, subplots = True,shadow= True, autopct='%1.1f%%', \n",
    "                     colors=['violet','aqua'], figsize=(5.4, 5.4), explode = (0, 0.1))\n",
    "# writing an appropriate title:\n",
    "plt.title('Ratio of suicides by gender', color='black', fontsize=17)\n",
    "# executing:\n",
    "plt.show()"
   ]
  },
  {
   "cell_type": "markdown",
   "metadata": {},
   "source": [
    "✤ Finally, by looking at the Pie chart, it is obvious that\n",
    "+ 76,9 percent of people is 5 million 176 811 Men, and \n",
    "+ 23,1 percent of people is 1 milion 556 006 Women.\n",
    "\n",
    "Maybe, it happend, because males always working at a job to provide family, or because of stress at work."
   ]
  },
  {
   "cell_type": "markdown",
   "metadata": {},
   "source": [
    " "
   ]
  },
  {
   "cell_type": "markdown",
   "metadata": {},
   "source": [
    "### 5.2. ✤  Analyze - Who's more likely to commit suicide due to gender & certain age ranges(groups)?"
   ]
  },
  {
   "cell_type": "markdown",
   "metadata": {},
   "source": [
    "✤ There, I am clustering people,by their age groups, gender and total suicide number for Females and Males, by using gropby(),sum() functions and correct syntax for them:"
   ]
  },
  {
   "cell_type": "code",
   "execution_count": 101,
   "metadata": {},
   "outputs": [
    {
     "data": {
      "text/plain": [
       "age          gender\n",
       "15-24 years  female     175199\n",
       "             male       632148\n",
       "25-34 years  female     208450\n",
       "             male       913392\n",
       "35-54 years  female     505001\n",
       "             male      1941374\n",
       "5-14 years   female      16997\n",
       "             male        35267\n",
       "55-74 years  female     428917\n",
       "             male      1224811\n",
       "75+ years    female     221442\n",
       "             male       429819\n",
       "Name: suicides_no, dtype: int64"
      ]
     },
     "execution_count": 101,
     "metadata": {},
     "output_type": "execute_result"
    }
   ],
   "source": [
    "rating.groupby(['age','gender'])['suicides_no'].sum()"
   ]
  },
  {
   "cell_type": "markdown",
   "metadata": {},
   "source": [
    "✤ In order to see values separately, I'm going to group them by gender, for Males and Females:"
   ]
  },
  {
   "cell_type": "code",
   "execution_count": 124,
   "metadata": {},
   "outputs": [],
   "source": [
    "# grouping & calculating sum of suicides amount: \n",
    "table2 = rating.groupby(['age','gender'])['suicides_no'].sum().unstack()\n",
    "# with reset_index() function, it will not begin from age:\n",
    "table2 = table2.reset_index().melt(id_vars='age')"
   ]
  },
  {
   "cell_type": "code",
   "execution_count": 99,
   "metadata": {},
   "outputs": [
    {
     "name": "stdout",
     "output_type": "stream",
     "text": [
      "           age  gender   value\n",
      "0  15-24 years  female  175199\n",
      "1  25-34 years  female  208450\n",
      "2  35-54 years  female  505001\n",
      "3   5-14 years  female   16997\n",
      "4  55-74 years  female  428917\n",
      "5    75+ years  female  221442\n"
     ]
    }
   ],
   "source": [
    "female_gr = table2.iloc[:6,:]\n",
    "print(female_gr)"
   ]
  },
  {
   "cell_type": "code",
   "execution_count": 95,
   "metadata": {},
   "outputs": [
    {
     "name": "stdout",
     "output_type": "stream",
     "text": [
      "            age gender    value\n",
      "6   15-24 years   male   632148\n",
      "7   25-34 years   male   913392\n",
      "8   35-54 years   male  1941374\n",
      "9    5-14 years   male    35267\n",
      "10  55-74 years   male  1224811\n",
      "11    75+ years   male   429819\n"
     ]
    }
   ],
   "source": [
    "male_gr = table2.iloc[6:,:]\n",
    "print(male_gr)"
   ]
  },
  {
   "cell_type": "markdown",
   "metadata": {},
   "source": [
    "✤ As you can see from these tables, all age groups are written randomly, thats'why Now I will write them by myself, to make understandable and strict graph:"
   ]
  },
  {
   "cell_type": "code",
   "execution_count": 134,
   "metadata": {},
   "outputs": [
    {
     "data": {
      "image/png": "[encoded data removed]",
      "text/plain": [
       "<Figure size 684x360 with 1 Axes>"
      ]
     },
     "metadata": {
      "needs_background": "light"
     },
     "output_type": "display_data"
    }
   ],
   "source": [
    "# writng all needed values to further plotting:\n",
    "labels_num = 6\n",
    "men_suicides = (35267, 632148, 913392, 1941374, 1224811, 429819)\n",
    "women_suicides = (16997, 175199, 208450, 505001, 428917, 221442)\n",
    "\n",
    "# creating a plot(graph)\n",
    "fig, ax = plt.subplots(figsize=(9.5,5))\n",
    "indx = np.arange(labels_num)\n",
    "opacity = 0.8  # color opacity,looks nicer\n",
    "bar_width = 0.37  # width of bars\n",
    "\n",
    "# giving detailed properties of the bars:\n",
    "mal = plt.bar(index, men_suicides, bar_width,alpha=opacity,color='deepskyblue',label='Male')\n",
    "fem = plt.bar(index + bar_width, women_suicides, bar_width,alpha=opacity,color='fuchsia',label='Female')\n",
    "\n",
    "# plotting 'X-axis' and 'Y-axis' and title:\n",
    "plt.xlabel('Age ranges',fontsize=14)\n",
    "plt.ylabel('Suicide Number',fontsize=14)\n",
    "plt.title('Suicide rates by gender & certain age groups', color='black', fontsize=17.5)\n",
    "\n",
    "# assigning the label names:\n",
    "plt.xticks(indx + bar_width,('5-14 years','15-24 years','25-34 years','35-54 years', '55-74 years','75+ years'))\n",
    "# rotating, so that labels will be suited:\n",
    "plt.xticks(rotation = 50)\n",
    "# show legend\n",
    "plt.legend(fontsize=14)\n",
    "\n",
    "plt.show()"
   ]
  },
  {
   "cell_type": "markdown",
   "metadata": {},
   "source": [
    "✤ As I understand from this bar chart,\n",
    " + Children from 5-14 years old, it's obvious that they can't kill themselves, they are very small babies.\n",
    " + Teenagers from 15-24 years old, they have suicidal behaviour, but Boys are more likely to that, because sometimes they like to fight with someone, due to anger.\n",
    " + Young adults from 25-34 years old, males are dying more, but not so much, in my opinion, because of depression at work or in family.\n",
    " + Middle-aged adults from 35-54 years old, Unfortunately, again Men make suicides 3 times more than Women.\n",
    " + Old people from 55-74 years old, Some of them already gone to retirement, less peple committed suicide.\n",
    " + Elderly people 75+ years old, they're sitting at home, maybe because of less stress. "
   ]
  },
  {
   "cell_type": "markdown",
   "metadata": {},
   "source": [
    " "
   ]
  },
  {
   "cell_type": "markdown",
   "metadata": {},
   "source": [
    "### 5.3. ✤ Which continent had the most depressed people due to suicides amount?"
   ]
  },
  {
   "cell_type": "markdown",
   "metadata": {},
   "source": [
    "✤  Here, I'm dividing all countries by common continents(materiki) & searched the Internet(Wikipedia) to find out which countries lies on specific continents such as Africa, Asia,North America, South America, Europe, Australia/Oceania:\n",
    "+ https://simple.wikipedia.org/wiki/List_of_countries_by_continents"
   ]
  },
  {
   "cell_type": "code",
   "execution_count": 24,
   "metadata": {},
   "outputs": [],
   "source": [
    "# here,i'm creating a list of countries for each mainland:\n",
    "africa = ['Cabo Verde', 'Mauritius', 'Seychelles', 'South Africa'] \n",
    "\n",
    "asia = ['Armenia', 'Bahrain', 'Israel', 'Japan', 'Kazakhstan', 'Kuwait', 'Kyrgyzstan', 'Macau', 'Maldives', 'Mongolia',\n",
    "        'Oman', 'Singapore', 'Sri Lanka', 'Philippines', 'Qatar', 'Republic of Korea', 'United Arab Emirates','Thailand',\n",
    "        'Turkey', 'Turkmenistan', 'Uzbekistan']\n",
    "\n",
    "europe = ['Albania', 'Austria', 'Azerbaijan', 'Bulgaria', 'Croatia', 'Cyprus', 'Belarus', 'Belgium', 'Bosnia and Herzegovina',\n",
    "        'Czech Republic', 'Denmark', 'Estonia', 'Finland', 'France', 'Georgia', 'Germany', 'Greece', 'Hungary', 'Iceland', \n",
    "         'Ireland', 'Italy', 'Latvia', 'Lithuania',  'Norway', 'Poland', 'Portugal', 'Romania', 'Russian Federation', \n",
    "         'Luxembourg', 'Malta', 'Montenegro', 'Netherlands','San Marino', 'Serbia', 'Slovakia', 'Slovenia', 'Spain', 'Sweden', \n",
    "          'Switzerland', 'Ukraine', 'United Kingdom'] \n",
    "\n",
    "north_america = ['Antigua and Barbuda', 'Bahamas', 'Barbados', 'Belize', 'Canada', 'Costa Rica', 'Cuba', 'Dominica', \n",
    "                'El Salvador', 'Grenada', 'Guatemala', 'Jamaica', 'Mexico', 'Nicaragua', 'Panama', 'Puerto Rico',\n",
    "                'Saint Kitts and Nevis', 'Saint Lucia', 'Saint Vincent and Grenadines', 'United States']\n",
    "\n",
    "south_america =  ['Argentina', 'Aruba', 'Brazil', 'Chile', 'Colombia', 'Ecuador', 'Guyana', 'Paraguay', 'Suriname', \n",
    "                 'Trinidad and Tobago', 'Uruguay']\n",
    "\n",
    "australia = ['Australia', 'Fiji', 'Kiribati', 'New Zealand']"
   ]
  },
  {
   "cell_type": "markdown",
   "metadata": {},
   "source": [
    " ✤ Then, I'm going to make dictinary -> by updating each mainland:"
   ]
  },
  {
   "cell_type": "code",
   "execution_count": 25,
   "metadata": {},
   "outputs": [],
   "source": [
    "#continents -> \"mainland\" variable:\n",
    "mainland = {country: 'Africa' for country in africa}\n",
    "mainland.update({country: 'Europe' for country in europe})\n",
    "mainland.update({country: 'Asia' for country in asia})\n",
    "mainland.update({country: 'North_America' for country in north_america})\n",
    "mainland.update({country: 'South_America' for country in south_america})\n",
    "mainland.update({country: 'Australia' for country in australia})"
   ]
  },
  {
   "cell_type": "markdown",
   "metadata": {},
   "source": [
    "✤ Creating a new column \"continent\" along with locating each country:"
   ]
  },
  {
   "cell_type": "code",
   "execution_count": 26,
   "metadata": {},
   "outputs": [],
   "source": [
    "rating['continent'] = rating['country'].map(mainland)"
   ]
  },
  {
   "cell_type": "markdown",
   "metadata": {},
   "source": [
    "✤ On right side, we can see that new column is created successfully, and now we can group countries:"
   ]
  },
  {
   "cell_type": "code",
   "execution_count": 29,
   "metadata": {},
   "outputs": [
    {
     "data": {
      "text/html": [
       "<div>\n",
       "<style scoped>\n",
       "    .dataframe tbody tr th:only-of-type {\n",
       "        vertical-align: middle;\n",
       "    }\n",
       "\n",
       "    .dataframe tbody tr th {\n",
       "        vertical-align: top;\n",
       "    }\n",
       "\n",
       "    .dataframe thead th {\n",
       "        text-align: right;\n",
       "    }\n",
       "</style>\n",
       "<table border=\"1\" class=\"dataframe\">\n",
       "  <thead>\n",
       "    <tr style=\"text-align: right;\">\n",
       "      <th></th>\n",
       "      <th>country</th>\n",
       "      <th>year</th>\n",
       "      <th>gender</th>\n",
       "      <th>age</th>\n",
       "      <th>suicides_no</th>\n",
       "      <th>population</th>\n",
       "      <th>gdp_for_year</th>\n",
       "      <th>gdp_per_capita</th>\n",
       "      <th>generation</th>\n",
       "      <th>suicide/pop</th>\n",
       "    </tr>\n",
       "  </thead>\n",
       "  <tbody>\n",
       "    <tr>\n",
       "      <th>0</th>\n",
       "      <td>Albania</td>\n",
       "      <td>1987</td>\n",
       "      <td>male</td>\n",
       "      <td>15-24 years</td>\n",
       "      <td>21</td>\n",
       "      <td>312900</td>\n",
       "      <td>2,156,624,900</td>\n",
       "      <td>796</td>\n",
       "      <td>Generation X</td>\n",
       "      <td>6.7</td>\n",
       "    </tr>\n",
       "    <tr>\n",
       "      <th>1</th>\n",
       "      <td>Albania</td>\n",
       "      <td>1987</td>\n",
       "      <td>male</td>\n",
       "      <td>35-54 years</td>\n",
       "      <td>16</td>\n",
       "      <td>308000</td>\n",
       "      <td>2,156,624,900</td>\n",
       "      <td>796</td>\n",
       "      <td>Silent</td>\n",
       "      <td>5.2</td>\n",
       "    </tr>\n",
       "    <tr>\n",
       "      <th>2</th>\n",
       "      <td>Albania</td>\n",
       "      <td>1987</td>\n",
       "      <td>female</td>\n",
       "      <td>15-24 years</td>\n",
       "      <td>14</td>\n",
       "      <td>289700</td>\n",
       "      <td>2,156,624,900</td>\n",
       "      <td>796</td>\n",
       "      <td>Generation X</td>\n",
       "      <td>4.8</td>\n",
       "    </tr>\n",
       "    <tr>\n",
       "      <th>3</th>\n",
       "      <td>Albania</td>\n",
       "      <td>1987</td>\n",
       "      <td>male</td>\n",
       "      <td>75+ years</td>\n",
       "      <td>1</td>\n",
       "      <td>21800</td>\n",
       "      <td>2,156,624,900</td>\n",
       "      <td>796</td>\n",
       "      <td>G.I. Generation</td>\n",
       "      <td>4.6</td>\n",
       "    </tr>\n",
       "    <tr>\n",
       "      <th>4</th>\n",
       "      <td>Albania</td>\n",
       "      <td>1987</td>\n",
       "      <td>male</td>\n",
       "      <td>25-34 years</td>\n",
       "      <td>9</td>\n",
       "      <td>274300</td>\n",
       "      <td>2,156,624,900</td>\n",
       "      <td>796</td>\n",
       "      <td>Boomers</td>\n",
       "      <td>3.3</td>\n",
       "    </tr>\n",
       "  </tbody>\n",
       "</table>\n",
       "</div>"
      ],
      "text/plain": [
       "   country  year  gender          age  suicides_no  population   gdp_for_year  \\\n",
       "0  Albania  1987    male  15-24 years           21      312900  2,156,624,900   \n",
       "1  Albania  1987    male  35-54 years           16      308000  2,156,624,900   \n",
       "2  Albania  1987  female  15-24 years           14      289700  2,156,624,900   \n",
       "3  Albania  1987    male    75+ years            1       21800  2,156,624,900   \n",
       "4  Albania  1987    male  25-34 years            9      274300  2,156,624,900   \n",
       "\n",
       "   gdp_per_capita       generation  suicide/pop  \n",
       "0             796     Generation X          6.7  \n",
       "1             796           Silent          5.2  \n",
       "2             796     Generation X          4.8  \n",
       "3             796  G.I. Generation          4.6  \n",
       "4             796          Boomers          3.3  "
      ]
     },
     "execution_count": 29,
     "metadata": {},
     "output_type": "execute_result"
    }
   ],
   "source": [
    "# as an example to see first 5 rows of dataset:\n",
    "rating.head()"
   ]
  },
  {
   "cell_type": "markdown",
   "metadata": {},
   "source": [
    "✤ Now, I have filtered data with only 6 contienents instead of 100 countries, and it is convenient to analyze Suicides number by each Mainland during the time period of 1985-2015 years:"
   ]
  },
  {
   "cell_type": "code",
   "execution_count": 28,
   "metadata": {},
   "outputs": [],
   "source": [
    "# taking needed columns:\n",
    "rate1 = rating[['continent','year','suicides_no']]"
   ]
  },
  {
   "cell_type": "markdown",
   "metadata": {},
   "source": [
    "✤ Here, I grouped them specially by columns such as 'continent' & 'years' and average number(mean) of suicides:"
   ]
  },
  {
   "cell_type": "code",
   "execution_count": 29,
   "metadata": {},
   "outputs": [
    {
     "data": {
      "text/html": [
       "<div>\n",
       "<style scoped>\n",
       "    .dataframe tbody tr th:only-of-type {\n",
       "        vertical-align: middle;\n",
       "    }\n",
       "\n",
       "    .dataframe tbody tr th {\n",
       "        vertical-align: top;\n",
       "    }\n",
       "\n",
       "    .dataframe thead th {\n",
       "        text-align: right;\n",
       "    }\n",
       "</style>\n",
       "<table border=\"1\" class=\"dataframe\">\n",
       "  <thead>\n",
       "    <tr style=\"text-align: right;\">\n",
       "      <th></th>\n",
       "      <th>continent</th>\n",
       "      <th>year</th>\n",
       "      <th>suicides_no</th>\n",
       "    </tr>\n",
       "  </thead>\n",
       "  <tbody>\n",
       "    <tr>\n",
       "      <th>0</th>\n",
       "      <td>Africa</td>\n",
       "      <td>1985</td>\n",
       "      <td>4.666667</td>\n",
       "    </tr>\n",
       "    <tr>\n",
       "      <th>1</th>\n",
       "      <td>Africa</td>\n",
       "      <td>1986</td>\n",
       "      <td>1.208333</td>\n",
       "    </tr>\n",
       "    <tr>\n",
       "      <th>2</th>\n",
       "      <td>Africa</td>\n",
       "      <td>1987</td>\n",
       "      <td>5.958333</td>\n",
       "    </tr>\n",
       "    <tr>\n",
       "      <th>3</th>\n",
       "      <td>Africa</td>\n",
       "      <td>1988</td>\n",
       "      <td>13.916667</td>\n",
       "    </tr>\n",
       "    <tr>\n",
       "      <th>4</th>\n",
       "      <td>Africa</td>\n",
       "      <td>1989</td>\n",
       "      <td>12.000000</td>\n",
       "    </tr>\n",
       "    <tr>\n",
       "      <th>...</th>\n",
       "      <td>...</td>\n",
       "      <td>...</td>\n",
       "      <td>...</td>\n",
       "    </tr>\n",
       "    <tr>\n",
       "      <th>181</th>\n",
       "      <td>South_America</td>\n",
       "      <td>2011</td>\n",
       "      <td>154.066667</td>\n",
       "    </tr>\n",
       "    <tr>\n",
       "      <th>182</th>\n",
       "      <td>South_America</td>\n",
       "      <td>2012</td>\n",
       "      <td>182.333333</td>\n",
       "    </tr>\n",
       "    <tr>\n",
       "      <th>183</th>\n",
       "      <td>South_America</td>\n",
       "      <td>2013</td>\n",
       "      <td>177.703704</td>\n",
       "    </tr>\n",
       "    <tr>\n",
       "      <th>184</th>\n",
       "      <td>South_America</td>\n",
       "      <td>2014</td>\n",
       "      <td>204.260417</td>\n",
       "    </tr>\n",
       "    <tr>\n",
       "      <th>185</th>\n",
       "      <td>South_America</td>\n",
       "      <td>2015</td>\n",
       "      <td>279.291667</td>\n",
       "    </tr>\n",
       "  </tbody>\n",
       "</table>\n",
       "<p>186 rows × 3 columns</p>\n",
       "</div>"
      ],
      "text/plain": [
       "         continent  year  suicides_no\n",
       "0           Africa  1985     4.666667\n",
       "1           Africa  1986     1.208333\n",
       "2           Africa  1987     5.958333\n",
       "3           Africa  1988    13.916667\n",
       "4           Africa  1989    12.000000\n",
       "..             ...   ...          ...\n",
       "181  South_America  2011   154.066667\n",
       "182  South_America  2012   182.333333\n",
       "183  South_America  2013   177.703704\n",
       "184  South_America  2014   204.260417\n",
       "185  South_America  2015   279.291667\n",
       "\n",
       "[186 rows x 3 columns]"
      ]
     },
     "execution_count": 29,
     "metadata": {},
     "output_type": "execute_result"
    }
   ],
   "source": [
    "# using groupby() function and properties of sorting, and find out average with mean() function:\n",
    "rate2 = rate1.groupby(['continent','year'],as_index=False,sort=True) ['suicides_no'].mean()\n",
    "rate2"
   ]
  },
  {
   "cell_type": "markdown",
   "metadata": {},
   "source": [
    "✤ Now, I can make a  graph by plotting ready information of average amount of suicides by continent & year:"
   ]
  },
  {
   "cell_type": "code",
   "execution_count": 31,
   "metadata": {},
   "outputs": [
    {
     "data": {
      "image/png": "[encoded data removed]",
      "text/plain": [
       "<Figure size 720x360 with 1 Axes>"
      ]
     },
     "metadata": {
      "needs_background": "light"
     },
     "output_type": "display_data"
    },
    {
     "data": {
      "text/plain": [
       "<Figure size 432x288 with 0 Axes>"
      ]
     },
     "metadata": {},
     "output_type": "display_data"
    }
   ],
   "source": [
    "#using matloblib.plt library, to show graph:\n",
    "\n",
    "# assigning size of our figure:\n",
    "fig = plt.subplots(figsize=(10, 5))\n",
    "\n",
    "# grouping by continents:\n",
    "each_cont = rate2.groupby('continent')\n",
    "\n",
    "# using \"for-loop\" helps to easy plot x and y axis, with linewidth:\n",
    "for name,group in each_cont:\n",
    "    plt.plot(group['year'], group['suicides_no'],linewidth=3,label=name)\n",
    "    \n",
    "# writing name of the graph title:\n",
    "plt.title('Average suicides for each Continent from 1985 to 2015', fontsize = 20)\n",
    "\n",
    "# plotting names of X-axis and Y-axis:\n",
    "plt.xlabel('Years', fontsize = 13)\n",
    "plt.ylabel('Suicides Average Amount', fontsize = 13)\n",
    "\n",
    "# with \"for-in loop\",making a legend more readable for each mainland:\n",
    "# setting size of words in legend, and width of lines in colors:\n",
    "details = plt.legend(fontsize = 9.5)\n",
    "for a in details.get_lines():\n",
    "    a.set_linewidth(5)\n",
    "    \n",
    "plt.show()\n",
    "\n",
    "plt.savefig(\"graph-3.png\")"
   ]
  },
  {
   "cell_type": "markdown",
   "metadata": {},
   "source": [
    " ✤ I think that these continents:\n",
    " + ASIA had depressed and unsatisfied people, according to amount of suicides.\n",
    " + EUROPE also had unhappy individuals among countries.\n",
    " + NORTH AND SOUTH AMERICA had between 100 and 200 suicides in average(mean) during 30 years.\n",
    " + AUSTRALIA had happier and less stressful children and adults than in other continents.\n",
    " + AFRICA was the happiest continent on the Earth."
   ]
  },
  {
   "cell_type": "markdown",
   "metadata": {},
   "source": [
    "### 5.4. ✤ Has the number of suicides increased or decreased over time (based on'suicides/pop')?"
   ]
  },
  {
   "cell_type": "markdown",
   "metadata": {},
   "source": [
    "✤ Now, I'm going to make graphs, where will be compared \n",
    "+ 1st graph- \"Suicides amount by each year\" or \n",
    "+ 2nd graph- \"Suicides amount per Population by each year\", \n",
    "\n",
    "in order to see whether it decreased or increased through the timeline of 30 years."
   ]
  },
  {
   "cell_type": "markdown",
   "metadata": {},
   "source": [
    "✤ To begin, I want to group years and suicide number:"
   ]
  },
  {
   "cell_type": "code",
   "execution_count": 37,
   "metadata": {},
   "outputs": [],
   "source": [
    "# grouping by all 30 years:\n",
    "eachyear = rating.groupby(['year']).sum().reset_index()"
   ]
  },
  {
   "cell_type": "code",
   "execution_count": 49,
   "metadata": {},
   "outputs": [],
   "source": [
    "# creating new variable, with suicides:\n",
    "suicideAmount = eachyear.set_index('year').suicides_no"
   ]
  },
  {
   "cell_type": "code",
   "execution_count": 69,
   "metadata": {},
   "outputs": [
    {
     "data": {
      "image/png": "[encoded data removed]",
      "text/plain": [
       "<Figure size 1008x432 with 1 Axes>"
      ]
     },
     "metadata": {
      "needs_background": "light"
     },
     "output_type": "display_data"
    }
   ],
   "source": [
    "# using matloblib, Object-oriented Interface:\n",
    "\n",
    "# plotting figure,with 10-5 size:\n",
    "f, ax = plt.subplots(1, 1, figsize = (14,6))\n",
    "# marker-p: pentagon symbol        \n",
    "ax = suicideAmount.plot(marker = 'p', ms = 6.5)\n",
    "\n",
    "# setting title,x-axis and y-axis names:\n",
    "# and size of text:\n",
    "ax.set_title(\"Suicide amount over the time\",fontsize = 19)\n",
    "ax.set_xlabel(\"~Years Timeline~\",fontsize = 16)\n",
    "ax.set_ylabel(\"Suicides Number\",fontsize = 16)\n",
    "\n",
    "# size of labels(x,y):\n",
    "ax.tick_params(labelsize = 15)\n",
    "\n",
    "# plotting properties to each numbersmby rotating:\n",
    "for a,b in zip(suicideAmount.index, suicideAmount.values):\n",
    "    ax.annotate(str(b), xy = (a,b), xytext = (-10, -5), \n",
    "    textcoords = 'offset points', rotation =-45)\n",
    "\n",
    "plt.show()"
   ]
  },
  {
   "cell_type": "markdown",
   "metadata": {},
   "source": [
    "✤ In this 1st graph, we can see that in general it increased. If we take into consideration big changes was from 1985-2000, rates were risen, then after 2000's year relatively declined. To be precise, initial point(1985 y.) there was 116 063 siuicides done,but finally in 2015 year, it doubled.  "
   ]
  },
  {
   "cell_type": "markdown",
   "metadata": {},
   "source": [
    "✤ Here, I want to see differences with \"Suicides amount per Population by each year. In order to be sure that, with each countries' population done suicides during 30 years. Now making this graph with some data preparation:"
   ]
  },
  {
   "cell_type": "code",
   "execution_count": 85,
   "metadata": {},
   "outputs": [],
   "source": [
    "# grouping columns:\n",
    "graph2 = rating.groupby(['year']).agg({'suicides_no' : 'sum','population':'sum',}).reset_index()"
   ]
  },
  {
   "cell_type": "code",
   "execution_count": 86,
   "metadata": {},
   "outputs": [],
   "source": [
    "graph2['suicide_per_pop'] = graph2.suicides_no / graph2.population * 100000"
   ]
  },
  {
   "cell_type": "code",
   "execution_count": 88,
   "metadata": {},
   "outputs": [
    {
     "data": {
      "image/png": "[encoded data removed]",
      "text/plain": [
       "<Figure size 864x432 with 1 Axes>"
      ]
     },
     "metadata": {
      "needs_background": "light"
     },
     "output_type": "display_data"
    }
   ],
   "source": [
    "# plotting a graph with 'year' and 'suicide/pop' columns: \n",
    "plt.figure(figsize = (12,6))\n",
    "plt.plot(graph2.year,graph2.suicide_per_pop,'-p')\n",
    "\n",
    "# writing names and size of text:\n",
    "plt.title('Suicides Amount per Population during 30 years',fontsize=20)\n",
    "plt.xlabel('Years duration',fontsize=15)\n",
    "plt.ylabel('Suicides #/Population',fontsize=15)\n",
    "\n",
    "plt.grid()\n",
    "# showing my graph:\n",
    "plt.show()"
   ]
  },
  {
   "cell_type": "markdown",
   "metadata": {},
   "source": [
    "✤  By looking to this line-graph, we can understand that initial and final point haven't changed. But a huge growth was in 1995 year, maybe I think this year was extremely hard for people around the world. After some time, individuals, who have committed suicides, began to decline till 2015 year. \n",
    "\n",
    "✤ To conclude, this 2nd graph was more better visualised, because, we analysed more precisely with Ratio of suicides number for per populaion during 30 years."
   ]
  },
  {
   "cell_type": "markdown",
   "metadata": {},
   "source": [
    " "
   ]
  },
  {
   "cell_type": "markdown",
   "metadata": {},
   "source": [
    "### 5.5. ✤ Analyze - Has the GDP(gross domestic product) affect on suicides amount?"
   ]
  },
  {
   "cell_type": "markdown",
   "metadata": {},
   "source": [
    " ✤ Let's understand what actually means GDP, it is used when comparing national economies on the international market around the world. I will use column \"gdp_per_capita\" to know will it affect on suicide number:"
   ]
  },
  {
   "cell_type": "code",
   "execution_count": 124,
   "metadata": {},
   "outputs": [
    {
     "data": {
      "text/plain": [
       "Text(0.5, 1.0, 'Impact of GDP per capita by Suicides')"
      ]
     },
     "execution_count": 124,
     "metadata": {},
     "output_type": "execute_result"
    },
    {
     "data": {
      "image/png": "[encoded data removed]",
      "text/plain": [
       "<Figure size 576x360 with 1 Axes>"
      ]
     },
     "metadata": {
      "needs_background": "light"
     },
     "output_type": "display_data"
    }
   ],
   "source": [
    "# using seaborn library:\n",
    "fig, ax = plt.subplots(1,1, figsize=(8,5))\n",
    "ax = sns.scatterplot(x=\"gdp_per_capita\", y=\"suicides_no\", data=rating, color='cyan')\n",
    "ax.set_title('Impact of GDP per capita by Suicides',fontsize=20)"
   ]
  },
  {
   "cell_type": "markdown",
   "metadata": {},
   "source": [
    "✤ By looking to the graph, I understand that if GDP_for each person is higher, then suicides number is less."
   ]
  },
  {
   "cell_type": "markdown",
   "metadata": {},
   "source": [
    "### 5.6. ✤ Analyze - Which generations were extremely sad during timeline?"
   ]
  },
  {
   "cell_type": "markdown",
   "metadata": {},
   "source": [
    "✤ To start, I want to introduce all generations, by their birth years,:\n",
    " + G.I(greatest) generation-==> Born 1901-1927 \n",
    " + SILENT generation-==> Born 1928-1945 \n",
    " + BOOMERS generation- ==> Born 1946-1964 \n",
    " + X generation- ==> Born 1965-1980 \n",
    " + MILLENIALS generation- ==> Born 1981-1996 \n",
    " + Z generation- ==> Born 1997-2012 \n",
    " \n",
    " HERE,you can se image,how they can look:"
   ]
  },
  {
   "cell_type": "markdown",
   "metadata": {},
   "source": [
    "<img src=\"figs/generations.jpg\" width=700 /> "
   ]
  },
  {
   "cell_type": "markdown",
   "metadata": {},
   "source": [
    "✤ After that, we can find out which generation was extremely sad and unsatisfied with the life:"
   ]
  },
  {
   "cell_type": "code",
   "execution_count": 112,
   "metadata": {},
   "outputs": [
    {
     "data": {
      "image/png": "[encoded data removed]",
      "text/plain": [
       "<Figure size 504x504 with 1 Axes>"
      ]
     },
     "metadata": {},
     "output_type": "display_data"
    }
   ],
   "source": [
    "# showing graph by plotting it in form of \"pie-chart\"-> more interesting, colorful, specific size,\n",
    "# having legend,shadow, percentages, division by using 'explode() function':\n",
    "\n",
    "labels=rating['generation'].value_counts().index\n",
    "# details about color:\n",
    "colors=['aqua','pink','yellow','orangered','lightgreen','violet']\n",
    "# explode like division in a pizza:\n",
    "explode=[0.1, 0.1, 0.1, 0.1, 0.1, 0.1]\n",
    "\n",
    "values=rating['generation'].value_counts().values\n",
    "plt.figure(figsize=(7,7))\n",
    "# plotting a pie chart with properties:\n",
    "plt.pie(values,explode=explode,labels=labels,colors=colors,autopct='%1.1f%%',shadow=True)\n",
    "plt.title('Ratio of 6 Generations',color='black',fontsize=20)\n",
    "\n",
    "# executing:\n",
    "plt.show()"
   ]
  },
  {
   "cell_type": "markdown",
   "metadata": {},
   "source": [
    "✤ Here, we just knew the amount in percentages of each generation who committed crime, but this is not enough to understand who was SAD. That is why, now I'm going to plot a graph by using more values, acccording due to \"gender\",\"suicide_numbers' and of course each generation:"
   ]
  },
  {
   "cell_type": "code",
   "execution_count": 127,
   "metadata": {},
   "outputs": [
    {
     "data": {
      "image/png": "[encoded data removed]",
      "text/plain": [
       "<Figure size 1036.8x288 with 6 Axes>"
      ]
     },
     "metadata": {
      "needs_background": "light"
     },
     "output_type": "display_data"
    }
   ],
   "source": [
    "# using seborn library:\n",
    "# with 3 columns like gender,suicides,generations:\n",
    "ax = sns.catplot(x=\"gender\", y=\"suicides_no\",col='generation', data=rating, height=4, aspect=.6,kind='bar')\n",
    "#setting title of graph:\n",
    "# ax.set_title('Generation by Suicide_Amount due to Gender',fontsize=20)"
   ]
  },
  {
   "cell_type": "markdown",
   "metadata": {},
   "source": [
    "✤  By analysing this bar plot, we can definitely say that:\n",
    " + ~ X gen-> men about 400 suicides,it is 4 times women's suicide amount(100).\n",
    " + ~ Silent gen-> a little bit more done suicides than X generation.\n",
    " + ~ G.I gen -> men(250) committed less, while females(150) stay same\n",
    " + ~ Boomers -> as we know they are adults,at that time, and Males were extremely sad, women not so much.\n",
    " + ~ Millenial -> teenagers were relatively sad, between 100-200 suicides done.\n",
    " + ~ Z gen-> children who born in 1997-2012, at that time were little and happiest person."
   ]
  },
  {
   "cell_type": "markdown",
   "metadata": {},
   "source": [
    " "
   ]
  },
  {
   "cell_type": "markdown",
   "metadata": {},
   "source": [
    "## 6. Conclusion"
   ]
  },
  {
   "cell_type": "markdown",
   "metadata": {},
   "source": [
    "✤ In general, we understand that we have a huge analysis about Suicide Rates among 100 countries, divided to 6 continents, during 30 years from 1985 to 2015. \n",
    "+ we can find out that there are Males had more suicidal behaviour rather than Females.\n",
    "+ Maybe, it occurs, because of that males always working at a job to provide family, or because of stress at work.\n",
    "+ Teenagers from 15-24 years old, they have suicidal behaviour, but Boys are more likely to that, because sometimes they like to fight with someone, due to anger.\n",
    "+ Middle-aged adults from 35-54 years old, Unfortunately, again Men make suicides 3 times more than Women.\n",
    "+ Elderly people 75+ years old, they had less committed crime, and they're sitting at home, maybe because of less stress.\n",
    "\n",
    "\n",
    "✤ If we analyse them by continents:\n",
    "+ ASIA had depressed and unsatisfied people, according to amount of suicides.\n",
    "+ NORTH AND SOUTH AMERICA had between 100 and 200 suicides in average(mean) during 30 years.\n",
    "+ AFRICA was the happiest continent on the Earth.\n",
    "✤ Moreover, \n",
    "+ In overall,suicide number has risen. But, when we took into consideration precise years,there were a lot changes from 1985-2000, rates were risen, then after 2000's year relatively declined. To be precise, initial point(1985 y.) there was 116 063 siuicides done,but finally in 2015 year, it doubled.\n",
    "+ ALso, huge growth was in 1995 year, maybe I think this year was extremely hard for people around the world. After some time, individuals, who have committed suicides, began to decline till 2015 year.\n",
    "\n",
    "✤ Furthermore, I knew that GDP_for each person has an impact higher, meanwhile suicides number is less amount.\n",
    "✤ If we say about generations, so\n",
    "+ Boomers were extremely unhappy, sad and unsatisfied with their life.\n",
    "+ Generation Z were absolutely happy due to graphs.\n",
    "\n",
    "✤ To conclude, it was a huge experience for me to analyse this Worldwide Suicide Rates from 1985-2015. Finally, I understand a lot of things,that will help me in the future!)"
   ]
  },
  {
   "cell_type": "code",
   "execution_count": null,
   "metadata": {},
   "outputs": [],
   "source": [
    " "
   ]
  },
  {
   "cell_type": "code",
   "execution_count": null,
   "metadata": {},
   "outputs": [],
   "source": []
  }
 ],
 "metadata": {
  "kernelspec": {
   "display_name": "Python 3",
   "language": "python",
   "name": "python3"
  },
  "language_info": {
   "codemirror_mode": {
    "name": "ipython",
    "version": 3
   },
   "file_extension": ".py",
   "mimetype": "text/x-python",
   "name": "python",
   "nbconvert_exporter": "python",
   "pygments_lexer": "ipython3",
   "version": "3.8.5"
  }
 },
 "nbformat": 4,
 "nbformat_minor": 4
}
